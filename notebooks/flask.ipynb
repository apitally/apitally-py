{
 "cells": [
  {
   "cell_type": "code",
   "execution_count": 4,
   "metadata": {},
   "outputs": [
    {
     "name": "stdout",
     "output_type": "stream",
     "text": [
      "[MIDDLEWARE] GET /hello/<name> 200 0.00013494491577148438\n",
      "200\n",
      "b'Hello, world!'\n"
     ]
    }
   ],
   "source": [
    "from flask import Flask\n",
    "from apitally.flask import ApitallyMiddleware\n",
    "\n",
    "app = Flask(\"Test App\")\n",
    "app.wsgi_app = ApitallyMiddleware(app.wsgi_app)\n",
    "\n",
    "\n",
    "@app.route(\"/hello/<name>\")\n",
    "def hello(name):\n",
    "    return f\"Hello, {name}!\"\n",
    "\n",
    "\n",
    "client = app.test_client()\n",
    "response = client.get(\"/hello/world\")\n",
    "\n",
    "print(response.status_code)\n",
    "print(response.data)"
   ]
  },
  {
   "cell_type": "code",
   "execution_count": 23,
   "metadata": {},
   "outputs": [],
   "source": [
    "rule = list(app.url_map.iter_rules())[0]"
   ]
  },
  {
   "cell_type": "code",
   "execution_count": 26,
   "metadata": {},
   "outputs": [
    {
     "data": {
      "text/plain": [
       "'/static/<path:filename>'"
      ]
     },
     "execution_count": 26,
     "metadata": {},
     "output_type": "execute_result"
    }
   ],
   "source": [
    "rule.rule"
   ]
  },
  {
   "cell_type": "code",
   "execution_count": 27,
   "metadata": {},
   "outputs": [
    {
     "data": {
      "text/plain": [
       "{'paths': [{'path': '/hello/<name>', 'method': 'GET'}],\n",
       " 'versions': {'python': '3.11.4', 'apitally': '0.0.0', 'flask': '2.3.2'},\n",
       " 'client': 'apitally-python'}"
      ]
     },
     "execution_count": 27,
     "metadata": {},
     "output_type": "execute_result"
    }
   ],
   "source": [
    "from apitally.flask import _get_app_info\n",
    "\n",
    "_get_app_info(app.wsgi_app, app.url_map, None, None)"
   ]
  },
  {
   "cell_type": "code",
   "execution_count": 13,
   "metadata": {},
   "outputs": [
    {
     "name": "stdout",
     "output_type": "stream",
     "text": [
      "[MIDDLEWARE] GET /hello/<name> 200 0.00013375282287597656\n"
     ]
    },
    {
     "data": {
      "text/plain": [
       "True"
      ]
     },
     "execution_count": 13,
     "metadata": {},
     "output_type": "execute_result"
    }
   ],
   "source": [
    "from werkzeug.test import Client\n",
    "\n",
    "client = Client(app.wsgi_app)\n",
    "response = client.get(\"/hello/simon\")\n",
    "response.status_code == 200"
   ]
  }
 ],
 "metadata": {
  "kernelspec": {
   "display_name": ".venv",
   "language": "python",
   "name": "python3"
  },
  "language_info": {
   "codemirror_mode": {
    "name": "ipython",
    "version": 3
   },
   "file_extension": ".py",
   "mimetype": "text/x-python",
   "name": "python",
   "nbconvert_exporter": "python",
   "pygments_lexer": "ipython3",
   "version": "3.11.4"
  },
  "orig_nbformat": 4
 },
 "nbformat": 4,
 "nbformat_minor": 2
}
